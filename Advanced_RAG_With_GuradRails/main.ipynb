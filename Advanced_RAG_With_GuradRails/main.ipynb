{
 "cells": [
  {
   "cell_type": "code",
   "execution_count": 50,
   "id": "d528f4f6",
   "metadata": {},
   "outputs": [],
   "source": [
    "import nest_asyncio\n",
    "nest_asyncio.apply()"
   ]
  },
  {
   "cell_type": "code",
   "execution_count": 51,
   "id": "0baa1430",
   "metadata": {},
   "outputs": [],
   "source": [
    "import os\n",
    "from dotenv import load_dotenv\n",
    "from langchain_pinecone import PineconeVectorStore\n",
    "from pinecone import Pinecone,ServerlessSpec\n",
    "from langchain_ollama import ChatOllama, OllamaEmbeddings\n",
    "from langchain_core.prompts import ChatPromptTemplate\n",
    "\n",
    "load_dotenv() \n",
    "pinecone_api_key = os.getenv(\"PINECONE_API_KEY\")\n",
    "pinecone_index_name = os.getenv(\"PINECONE_INDEX_NAME\")\n",
    "\n",
    "pc = Pinecone(api_key=pinecone_api_key)\n",
    "\n",
    "embeddings = OllamaEmbeddings(\n",
    "    base_url=\"http://localhost:11434\", \n",
    "    model=\"nomic-embed-text:latest\"\n",
    ")\n",
    "llm = ChatOllama(\n",
    "    base_url=\"http://localhost:11434\", \n",
    "    model=\"llama3.2:latest\"\n",
    ")\n",
    "\n",
    "if not pc.has_index(pinecone_index_name):\n",
    "    pc.create_index(\n",
    "        name=pinecone_index_name,\n",
    "        dimension=768,\n",
    "        metric=\"cosine\",\n",
    "        spec=ServerlessSpec(cloud=\"aws\", region=\"us-east-1\"),\n",
    "    )\n",
    "    \n",
    "index = pc.Index(pinecone_index_name)\n",
    "vector_store = PineconeVectorStore(embedding=embeddings, index=index) \n",
    "retriever = vector_store.as_retriever(search_type=\"similarity\", search_kwargs={\"k\": 3}) \n"
   ]
  },
  {
   "cell_type": "code",
   "execution_count": 52,
   "id": "24890eea",
   "metadata": {},
   "outputs": [],
   "source": [
    "from langchain_core.prompts import ChatPromptTemplate\n",
    "from langchain_core.output_parsers import StrOutputParser\n",
    "from langchain_core.runnables import RunnableLambda\n",
    "\n",
    "\n",
    "def debug(input):\n",
    "    print(\"INPUT: \", input)\n",
    "    return input\n",
    "\n",
    "\n",
    "template = \"\"\"Answer the users question. Try to answer based on the context below.:\n",
    "{context}\n",
    "\n",
    "\n",
    "Question: {question}\n",
    "\"\"\"\n",
    "prompt = ChatPromptTemplate.from_template(template)\n",
    "\n",
    "retrieval_chain = {\n",
    "    \"context\": (lambda x: x[\"question\"]) | retriever,\n",
    "    \"question\": lambda x: x[\"question\"],\n",
    "} | prompt\n",
    "complete_chain = RunnableLambda(debug) | retrieval_chain | llm | StrOutputParser()"
   ]
  },
  {
   "cell_type": "code",
   "execution_count": 53,
   "id": "9e9d1ad3",
   "metadata": {},
   "outputs": [],
   "source": [
    "# %pip install nemoguardrails"
   ]
  },
  {
   "cell_type": "code",
   "execution_count": 54,
   "id": "2e03055b",
   "metadata": {},
   "outputs": [],
   "source": [
    "from nemoguardrails import RailsConfig\n",
    "from nemoguardrails.integrations.langchain.runnable_rails import RunnableRails\n",
    "\n",
    "prompt = ChatPromptTemplate.from_template(\"{question}\")\n",
    "\n",
    "config = RailsConfig.from_path(\"./config\")\n",
    "guardrails = RunnableRails(config)\n",
    "guardrails.rails.register_action(complete_chain, \"return_answer\")\n",
    "\n",
    "rails_chain = prompt | guardrails | StrOutputParser()\n"
   ]
  },
  {
   "cell_type": "code",
   "execution_count": null,
   "id": "e954a55c",
   "metadata": {},
   "outputs": [
    {
     "name": "stderr",
     "output_type": "stream",
     "text": [
      "WARNING:nemoguardrails.llm.params:Parameter max_tokens does not exist for ChatOllama\n"
     ]
    },
    {
     "name": "stdout",
     "output_type": "stream",
     "text": [
      "Good morning! How can I assist you today?\n"
     ]
    }
   ],
   "source": [
    "response = rails_chain.invoke(\"Good Morning\")\n",
    "print(response)"
   ]
  },
  {
   "cell_type": "code",
   "execution_count": null,
   "id": "ff07f7c4",
   "metadata": {},
   "outputs": [],
   "source": []
  }
 ],
 "metadata": {
  "kernelspec": {
   "display_name": "langgrpah",
   "language": "python",
   "name": "python3"
  },
  "language_info": {
   "codemirror_mode": {
    "name": "ipython",
    "version": 3
   },
   "file_extension": ".py",
   "mimetype": "text/x-python",
   "name": "python",
   "nbconvert_exporter": "python",
   "pygments_lexer": "ipython3",
   "version": "3.9.6"
  }
 },
 "nbformat": 4,
 "nbformat_minor": 5
}
