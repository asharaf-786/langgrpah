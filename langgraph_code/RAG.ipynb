{
 "cells": [
  {
   "cell_type": "code",
   "execution_count": 131,
   "id": "f41d398a",
   "metadata": {},
   "outputs": [],
   "source": [
    "# %pip install databricks-langchain \n",
    "# %pip install langchain-community pymupdf \n",
    "# %pip install langchain-pinecone pinecone \n",
    "# %pip install langchain-ollama "
   ]
  },
  {
   "cell_type": "code",
   "execution_count": 132,
   "id": "e1b53e3b",
   "metadata": {},
   "outputs": [
    {
     "data": {
      "text/plain": [
       "['rag-dataset/finance/amazon/amazon-10-q-q3-2024.pdf',\n",
       " 'rag-dataset/finance/google/goog-10-q-q3-2024.pdf',\n",
       " 'rag-dataset/finance/facebook/Meta-09-30-2024-Exhibit-99-1_FINAL.pdf',\n",
       " 'rag-dataset/finance/facebook/META-Q3-2024-Follow-Up-Call-Transcript.pdf',\n",
       " 'rag-dataset/finance/facebook/Earnings-Presentation-Q3-2024.pdf',\n",
       " 'rag-dataset/finance/facebook/META-Q3-2024-Earnings-Call-Transcript.pdf',\n",
       " 'rag-dataset/health supplements/1. dietary supplements - for whom.pdf',\n",
       " 'rag-dataset/health supplements/3.health_supplements_side_effects.pdf',\n",
       " 'rag-dataset/health supplements/2. Nutraceuticals research.pdf',\n",
       " 'rag-dataset/gym supplements/2. High Prevalence of Supplement Intake.pdf',\n",
       " 'rag-dataset/gym supplements/1. Analysis of Actual Fitness Supplement.pdf']"
      ]
     },
     "execution_count": 132,
     "metadata": {},
     "output_type": "execute_result"
    }
   ],
   "source": [
    "import os\n",
    "pdfs = []\n",
    "for root, dirs, files in os.walk(\"rag-dataset\"):\n",
    "    for file in files:\n",
    "        if file.endswith(\".pdf\"):\n",
    "            pdfs.append(os.path.join(root, file))\n",
    "pdfs"
   ]
  },
  {
   "cell_type": "code",
   "execution_count": null,
   "id": "65465ff0",
   "metadata": {},
   "outputs": [],
   "source": [
    "from dotenv import load_dotenv\n",
    "from langchain.document_loaders import PyMuPDFLoader \n",
    "from langchain.text_splitter import RecursiveCharacterTextSplitter \n",
    "\n",
    "load_dotenv() \n",
    "health_supplements_pdfs = pdfs[6:9]\n",
    "texts = []\n",
    "for pdf in health_supplements_pdfs:\n",
    "    loader = PyMuPDFLoader(pdf)\n",
    "    pages = loader.load()\n",
    "    texts.extend(pages) \n",
    "\n",
    "print(len(texts)) \n",
    "\n",
    "text_splitter = RecursiveCharacterTextSplitter(chunk_size=1000, chunk_overlap=200)\n",
    "docs = text_splitter.split_documents(texts)\n",
    "\n",
    "print(len(docs))\n"
   ]
  },
  {
   "cell_type": "code",
   "execution_count": 134,
   "id": "2f199ade",
   "metadata": {},
   "outputs": [
    {
     "name": "stdout",
     "output_type": "stream",
     "text": [
      "[0.015993515, -0.00062255946, -0.15882872, -0.012685137, -0.01772414, 0.061347138, -0.0054875617, -0.0106531, -0.0055957567, -0.0407723, 0.013800241, 0.07319869, 0.01947844, 0.05118199, 0.026937848, -0.05958253, 0.007579741, -0.062437803, -0.029513499, 0.02528373, -0.03170574, -0.089156374, 0.008608357, 0.01985421, 0.12295306, 0.009044305, -0.037427314, 0.07181586, 0.012586577, -0.0032036244, -0.0051400512, 0.007734456, -0.0016507168, 0.034074236, 0.056595176, 0.00039103726, 0.022019977, 0.007560744, 0.024588065, -0.026115306, 0.012698323, -0.0006432549, 0.012741588, 0.0057689203, 0.07582881, -0.017261123, -0.019303396, -0.03416783, 0.06996755, -0.035534225, -0.046174865, -0.007327933, -0.0038501793, 0.055153757, 0.04707869, 0.016620874, 0.053463444, -0.035655934, 0.018318871, 0.055533573, 0.041765507, 0.05430297, 0.028150182, 0.03240944, 0.00077659986, -0.04753271, -0.014110568, 0.073531404, 0.023689367, 0.009196028, 0.08969711, 0.0011509941, 0.026200863, 0.026710622, 0.03178185, 0.024917956, 0.0024462233, 0.008758629, 0.011223269, -0.025044568, 0.053461857, -0.03634651, 0.06244301, -0.04330272, -0.037092645, -0.06402314, -0.0053147576, -0.008334713, -0.055058964, 0.031180654, 0.06812149, 0.01783182, -0.017193144, 0.0071896533, -0.02998732, 0.016643763, -0.0029800546, 0.009082973, -0.031540472, -0.013765733, 0.0016486378, -0.051132593, -0.016159555, 0.037994973, 0.06984356, 0.034879427, -0.024281273, -0.056599353, -0.06180908, -0.04353559, -0.034621455, 0.025977938, -0.0010120618, 0.04461878, -0.0334571, -0.017146457, 0.03715876, -0.05651322, -0.004705273, 0.070420355, -0.012661092, -0.01116309, -0.031529747, 0.011079786, 0.045094088, 0.036180202, -0.041562177, -0.026671428, 0.027117407, -0.010446124, -0.016718274, -0.017334009, -0.034913935, -0.013557967, -0.021010708, 0.02532012, 0.0012659647, -0.0171253, 0.058535628, 0.029427566, -0.0033803892, 0.023806658, 0.017270995, -0.04834593, -0.06503688, -0.0128445625, 0.0570329, -0.034926858, -0.009114655, -0.019103196, -0.011425665, 0.020443058, 0.049768392, 0.039648876, -0.003639594, -0.02712253, -0.025725558, 0.0004142229, 0.050150458, -0.021415237, 0.004822021, -0.01852191, -0.056455, 0.0031931028, 0.055292808, -0.08785853, 0.058701202, 0.0344515, 0.008938366, 0.01995353, -0.027123764, -0.05344903, 0.004773189, -0.029343385, -0.05024576, -0.041119922, -0.012375153, -0.0371026, -0.012271322, 0.0065611135, 0.06036522, -0.047422685, 0.0015364743, 0.019024879, -0.0014670301, -0.068935886, -0.014172263, 0.000696234, -0.010950399, -0.018867396, -0.02866154, 0.022376994, -0.05066633, -0.00275218, -0.012783562, -0.028269535, -0.010376254, 0.010051492, 0.011202702, -0.07116631, -0.010393223, 0.0067965603, -0.033985335, -0.026367404, -0.02647315, 0.04216593, 0.069568664, 0.013390896, 0.044477336, 0.03330154, 0.08363107, -0.05281227, -0.05278894, -0.036424045, -0.018411353, 0.015473156, -0.013987738, -0.052541785, -0.005280609, -0.00046888704, 0.010915432, -0.01026471, 0.05016983, 0.011906599, 0.08300087, 0.010762035, -0.08717812, 0.015721848, -0.070430055, -0.011377769, -0.034520403, -0.037151985, 0.024082925, 0.024810644, -0.019415434, 0.033550207, 0.042380556, 0.053679816, -0.016044248, -0.037412673, -0.05358474, 0.04533771, 0.02264873, -0.021221358, -0.040971577, 0.033091225, -0.038004804, 0.0074729766, -0.019789368, -0.0032661029, -0.0382036, -0.024217922, 0.0015908593, 0.02050282, 0.020752776, -0.016285967, -0.022470733, 0.009032691, -0.007091114, 0.0054588136, 0.047223784, -0.09428779, 0.048265822, -0.04141051, -0.030511806, 0.00821133, -0.011621759, 0.059768658, 0.05326111, -0.048414852, 0.015089631, 0.0039077904, 0.0024226666, 0.027031189, -0.032043997, -0.033156764, 0.02072867, 0.008188161, -0.042925652, 0.052101362, -0.04996432, 0.008848891, -0.0144737465, -0.034730997, -0.02129919, 0.009210549, 0.023735816, 0.013033504, -0.025409998, -0.06416479, 0.04517713, 0.038365655, 0.0016389855, 0.08766636, 0.011881527, 0.017588958, 0.063422315, 0.012604338, -0.035645, -0.028284209, 0.00046719826, -0.013125217, 0.0388196, -0.025927374, -0.03600165, 0.015999546, 0.04372096, -0.023628445, 0.056728777, -0.007086401, -0.051931784, 0.08495741, -0.08242408, 0.0137808565, -0.043753047, 0.02292911, -0.022059068, 0.03772113, 0.06294743, -0.0022999416, -0.033697072, -0.038204253, 0.003005255, -0.031631976, 0.008817918, 0.024520563, 0.040380877, 0.033384204, 0.009931097, -0.028344437, -0.04135299, 0.01844879, -0.030754061, -0.041174587, -0.020285934, 0.05046743, -0.0088617625, -0.05466265, -0.01588169, 0.060967453, 0.013574308, 0.035664152, 0.033311207, -0.027824217, -0.002085951, -0.025582023, -0.011095183, 0.0056553893, -0.014176262, 0.04601155, 0.005061343, 0.023238603, -0.021674551, 0.016061433, 0.003679922, -0.01877393, 0.019375738, 0.04680879, 0.0004402187, -0.04816054, -0.018193536, -0.0066460953, 0.02641246, 0.001708178, -0.012722766, 0.0011870784, 0.043685183, -0.010794311, 0.03596916, -0.007154475, -0.003335036, -0.015918564, -0.035715472, 0.033546202, 0.013037143, 0.011951753, -0.06298108, -0.0310698, -0.014866635, 0.018096998, -0.04128907, -0.05294437, -0.000688069, -0.03142572, -0.020383472, 0.023693541, -0.0022229995, -0.007807663, 0.006464485, 0.024845002, 0.025851648, -0.045800533, 0.029750973, -0.02031096, -0.0030746134, 0.012963671, 0.0022273683, -0.012790307, -0.046924785, 0.012392418, 0.0020942704, 0.0012373836, 0.018163523, -0.07280749, 0.0014581198, -0.028995685, -0.042091586, -0.010405204, 0.04157861, -0.012378033, 0.04926851, 0.0234167, 0.016919734, -0.055168096, -0.025376154, 0.021203034, 0.007008666, -0.06561203, -0.013362194, 0.0019995156, 0.04379975, 0.06695615, 0.023415193, 0.030277584, -0.025603916, 0.075702764, 0.042102534, 0.037374202, -0.00997083, -0.052917127, -0.003359063, 0.04323163, 0.0075504617, 0.042260338, 0.00023100195, -0.03475742, 0.013968676, -0.0045269025, 0.052548677, 0.034136504, 0.06354551, -0.016621226, -0.02238398, -0.0057475837, 0.0054223584, 0.11104682, 0.09469621, -0.01211358, -0.05057243, 0.013158253, -0.053647034, 0.026251696, 0.06761754, 0.011168593, 0.09304346, -0.06734508, 0.055664785, -0.026731392, -0.008094075, 0.000407719, 0.0035863586, 0.016737577, -0.046694886, 0.0021286784, 0.0070924964, -0.049236026, 0.0014139039, -0.0024727494, -0.008138972, 0.0046029887, -0.030927852, -0.022978509, 0.009610455, -0.018489214, -0.05852958, 0.038220745, -0.02980169, -0.026859554, -0.010422633, 0.030709427, 0.014070325, 0.01618414, -0.043707985, -0.026876742, 0.035933487, 0.043885026, 0.017645815, 0.011825457, -0.018909354, 0.039587744, -0.0018699565, -0.02941984, 0.044769485, -0.0037078136, -0.024894701, 0.012707477, -0.03938539, -0.014382183, -0.017496604, -0.0015679155, 0.017531, -0.019781344, -0.013606046, 0.03864827, -0.0073771435, 0.015396507, 0.009639462, -0.05955955, -0.023229191, 0.042099908, -0.019123482, 0.015189405, -0.010390909, 0.030485675, 0.077307895, -0.026879659, 0.02456945, -0.019868106, -0.044424556, 0.04426505, 0.009119361, -0.03355063, -0.024587294, 0.012714403, -0.056817535, 0.06476974, 0.0151805105, -0.055416856, 0.019187357, 0.021347104, -0.013452765, 0.027718114, 0.017020632, -0.025439925, 0.0127490405, -0.021432906, -0.017506469, 0.026398875, 0.05809887, 0.005482491, -0.024555635, 0.01108433, 0.0072701196, -0.04150872, 0.040159322, 0.047243945, -0.04132315, 0.044971272, 0.002146419, 0.05028142, -0.035159554, -0.034280363, -0.0056271735, -0.014709547, -0.016463822, -0.07560837, -0.021479104, 0.01516364, -0.047641106, -0.08517197, 0.038433917, 0.054831617, 0.006146738, -0.004027124, 0.019386968, 0.005456302, 0.026171932, 0.0042799446, 0.0052742143, -0.013628881, -0.023188192, -0.07099776, 0.017711863, -0.027820846, 0.005005314, -0.02943428, 0.038820263, -0.009780053, -0.046066634, -0.02893127, -0.012856012, -0.062316198, 0.0034771787, 0.027857723, -0.008368663, 0.004567154, 0.006925721, -0.056881566, 0.043781064, -0.0034088846, -0.032240573, 0.008650735, 0.0292988, -0.04615799, -0.021765152, 0.03734709, -0.030386837, -0.042351313, -0.03072045, -0.025182258, -0.014567621, 0.025716338, 0.09227738, -0.08353774, 0.04796709, 0.06178699, 0.0014757756, 0.019583298, 0.024713429, 0.018712368, 0.08194555, 0.012065171, -0.0097483555, 0.006575748, 0.022687444, 0.00569762, 0.07337758, -0.004956423, 0.011275403, -0.04482339, -0.0507332, -0.014428308, 0.036495004, 0.0044875853, 0.039408635, 0.00065573293, -0.033539917, -0.040961932, -0.059945565, 0.05898794, 0.004574741, -0.013558339, -0.08036762, 0.007736698, -0.011384338, 0.03259757, 0.021782193, -0.0047033443, -0.017137771, 0.012341842, 0.022426438, -0.0123601975, 0.010205991, 0.0030015286, 0.030010927, -0.018314984, 0.06441672, 0.038526144, 0.057514578, 0.038099386, 0.0771456, 0.051405996, 0.036733013, 0.03507029, -0.0037254384, -0.028135706, -0.0021572171, -0.04165025, -0.056060947, 0.041523393, -0.017270243, 0.010577001, -0.05962013, -0.031373262, 0.031397164, -0.031124033, -0.02955361, 0.028385883, -0.08686058, 0.014888331, 0.00042480812, -0.015265793, -0.032546785, -0.032751843, -0.0099711325, 0.021566136, 0.022144035, 0.033295043, 0.045065474, 0.002304365, 0.051466957, -0.014470175, -0.04856724, 0.039784398, 0.054338597, -0.033837132, 0.046684787, -0.023448847, -0.08003192, -0.04406348, -0.013424309, -0.01423684, -0.0067630233, -0.04536158, -0.029473418, 0.01646786, -0.036415707, -0.004745236, -0.042605452, 0.040777322, -0.022077128, -0.03138469, 0.028140971, 0.020385766, -0.0063569746, -0.027045527, -0.022825021, 0.020143505, -0.017176664, -0.006900622, -0.020308467, 0.04538901, 0.013410085, 0.036722723, 0.0035233803, 0.020173075, -0.022116713, 0.017231982, 0.022544648, 0.052056096, 0.06687397, 0.00774558, -0.052937035, 0.00018544034, -0.007924642, 0.014329325, -0.0133956075, -0.002877678, 0.018085608, -0.0006382332, 0.0062129484, -0.034231182, -0.025858631, 0.06594395, -0.02996046, 0.015887639, -0.015274674, -0.06620775, -0.043040216, -0.042506382, -0.05362227, -0.04016765, -0.0053197187, 0.03591695, -0.019973638, -0.031163778, 0.03997694, 0.059495732, -0.015338415, -0.025333973, -0.020282296, -0.0010033938, -0.02217722, -0.038452234, 0.023004971, 0.058290694, -0.0013945483, 0.038238727, 0.084023505, -0.0372178, 0.01012828, 0.0075984546, 0.024576217, 0.047194716, 0.032673363, -0.015827792, -0.046220664, 0.0076173106]\n"
     ]
    }
   ],
   "source": [
    "import os\n",
    "from langchain_pinecone import PineconeVectorStore\n",
    "from pinecone import Pinecone\n",
    "from pinecone import ServerlessSpec\n",
    "from initializeLLM import get_ollama_embedding\n",
    "\n",
    "pinecone_index_name = os.getenv(\"PINECONE_INDEX_NAME\")\n",
    "pinecone_api_key = os.getenv(\"PINECONE_API_KEY\")\n",
    "\n",
    "embeddings = get_ollama_embedding()\n",
    "\n",
    "pc = Pinecone(api_key=pinecone_api_key)\n",
    "\n",
    "if not pc.has_index(pinecone_index_name):\n",
    "    pc.create_index(\n",
    "        name=pinecone_index_name,\n",
    "        dimension=768,\n",
    "        metric=\"cosine\",\n",
    "        spec=ServerlessSpec(cloud=\"aws\", region=\"us-east-1\"),\n",
    "    )\n",
    "index = pc.Index(pinecone_index_name)\n",
    "vector_store = PineconeVectorStore(embedding=embeddings, index=index) \n",
    "# vector_store.add_documents(docs)"
   ]
  },
  {
   "cell_type": "markdown",
   "id": "b33ce9e7",
   "metadata": {},
   "source": [
    "Retrivere"
   ]
  },
  {
   "cell_type": "code",
   "execution_count": 136,
   "id": "655f9cde",
   "metadata": {},
   "outputs": [
    {
     "data": {
      "text/plain": [
       "[Tool(name='health_supplements', description='Search and retrun information about the Health Supplements for workout and gym', args_schema=<class 'langchain_core.tools.retriever.RetrieverInput'>, func=functools.partial(<function _get_relevant_documents at 0x123f7aa60>, retriever=VectorStoreRetriever(tags=['PineconeVectorStore', 'OllamaEmbeddings'], vectorstore=<langchain_pinecone.vectorstores.PineconeVectorStore object at 0x122f3e850>, search_kwargs={'k': 5}), document_prompt=PromptTemplate(input_variables=['page_content'], input_types={}, partial_variables={}, template='{page_content}'), document_separator='\\n\\n', response_format='content'), coroutine=functools.partial(<function _aget_relevant_documents at 0x124028ee0>, retriever=VectorStoreRetriever(tags=['PineconeVectorStore', 'OllamaEmbeddings'], vectorstore=<langchain_pinecone.vectorstores.PineconeVectorStore object at 0x122f3e850>, search_kwargs={'k': 5}), document_prompt=PromptTemplate(input_variables=['page_content'], input_types={}, partial_variables={}, template='{page_content}'), document_separator='\\n\\n', response_format='content'))]"
      ]
     },
     "execution_count": 136,
     "metadata": {},
     "output_type": "execute_result"
    }
   ],
   "source": [
    "retriever = vector_store.as_retriever(search_type=\"similarity\", search_kwargs = {'k': 5})\n",
    "from langchain.tools.retriever import create_retriever_tool\n",
    "\n",
    "retriever_tool = create_retriever_tool(\n",
    "    retriever,\n",
    "    \"health_supplements\",\n",
    "    \"Search and retrun information about the Health Supplements for workout and gym\",\n",
    ")\n",
    "tools = [retriever_tool]\n",
    "tools"
   ]
  },
  {
   "cell_type": "code",
   "execution_count": 137,
   "id": "d07a92be",
   "metadata": {},
   "outputs": [],
   "source": [
    "from typing import Annotated, Sequence, TypedDict, Literal \n",
    "from langchain_core.messages import BaseMessage\n",
    "from langgraph.graph.message import add_messages\n",
    "\n",
    "class State(TypedDict):\n",
    "    messages: Annotated[Sequence[BaseMessage], add_messages]"
   ]
  },
  {
   "cell_type": "code",
   "execution_count": 138,
   "id": "fd186673",
   "metadata": {},
   "outputs": [],
   "source": [
    "from langchain import hub\n",
    "from langchain_core.messages import HumanMessage\n",
    "from langchain_core.output_parsers import StrOutputParser\n",
    "from langchain_core.prompts import PromptTemplate\n",
    "\n",
    "from pydantic import BaseModel, Field\n",
    "from langgraph.prebuilt import tools_condition\n",
    "from initializeLLM import get_ollama_llm"
   ]
  },
  {
   "cell_type": "code",
   "execution_count": 151,
   "id": "177d59b9",
   "metadata": {},
   "outputs": [],
   "source": [
    "llm = get_ollama_llm()"
   ]
  },
  {
   "cell_type": "code",
   "execution_count": 153,
   "id": "11257b46",
   "metadata": {},
   "outputs": [],
   "source": [
    "def grade_documents(state) -> Literal[\"generate\", \"rewrite\"]:\n",
    "    \"\"\"\n",
    "    Determines whether the retrieved documents are relevant to the question.\n",
    "\n",
    "    Args:\n",
    "        state (messages): The current state\n",
    "\n",
    "    Returns:\n",
    "        str: A decision for whether the documents are relevant or not\n",
    "    \"\"\"\n",
    "    class grade(BaseModel):\n",
    "        \"\"\"Binary score for relevance check.\"\"\"\n",
    "        binary_score: str = Field(description=\"Relevance score 'yes' or 'no'\")\n",
    "\n",
    "    llm_with_structured_output = llm.with_structured_output(grade)\n",
    "    prompt = PromptTemplate(\n",
    "        template=\"\"\"You are a grader assessing relevance of a retrieved document to a user question. \\n \n",
    "        Here is the retrieved document: \\n\\n {context} \\n\\n\n",
    "        Here is the user question: {question} \\n\n",
    "        If the document contains keyword(s) or semantic meaning related to the user question, grade it as relevant. \\n\n",
    "        Give a binary score 'yes' or 'no' score to indicate whether the document is relevant to the question.\"\"\",\n",
    "        input_variables=[\"context\", \"question\"],\n",
    "    )\n",
    "    chain = prompt | llm_with_structured_output\n",
    "    messages = state[\"messages\"]\n",
    "    last_message = messages[-1]\n",
    "    question = messages[0].content\n",
    "    docs = last_message.content\n",
    "    scored_result = chain.invoke({\"question\": question, \"context\": docs})\n",
    "    score = scored_result.binary_score\n",
    "    if score == \"yes\":\n",
    "        return \"generate\"\n",
    "    else:\n",
    "        return \"rewrite\""
   ]
  },
  {
   "cell_type": "code",
   "execution_count": 160,
   "id": "833ab764",
   "metadata": {},
   "outputs": [],
   "source": [
    "def agent(state):\n",
    "    \"\"\"\n",
    "    Invokes the agent model to generate a response based on the current state. Given\n",
    "    the question, it will decide to retrieve using the retriever tool, or simply end.\n",
    "\n",
    "    Args:\n",
    "        state (messages): The current state\n",
    "\n",
    "    Returns:\n",
    "        dict: The updated state with the agent response appended to messages\n",
    "    \"\"\"\n",
    "    messages = state[\"messages\"]\n",
    "    llm_with_tools = llm.bind_tools(tools)\n",
    "    response = llm_with_tools.invoke(messages)\n",
    "    return {\"messages\": [response]}"
   ]
  },
  {
   "cell_type": "code",
   "execution_count": 155,
   "id": "b087d9cd",
   "metadata": {},
   "outputs": [],
   "source": [
    "def rewrite(state):\n",
    "    \"\"\"\n",
    "    Transform the query to produce a better question.\n",
    "\n",
    "    Args:\n",
    "        state (messages): The current state\n",
    "\n",
    "    Returns:\n",
    "        dict: The updated state with re-phrased question\n",
    "    \"\"\"\n",
    "    messages = state[\"messages\"]\n",
    "    question = messages[0].content\n",
    "\n",
    "    msg = [\n",
    "        HumanMessage(\n",
    "            content=f\"\"\" \\n \n",
    "    Look at the input and try to reason about the underlying semantic intent / meaning. \\n \n",
    "    Here is the initial question:\n",
    "    \\n ------- \\n\n",
    "    {question} \n",
    "    \\n ------- \\n\n",
    "    Formulate an improved question: \"\"\",\n",
    "        )\n",
    "    ]\n",
    "\n",
    "    response = llm.invoke(msg)\n",
    "    return {\"messages\": [response]}"
   ]
  },
  {
   "cell_type": "code",
   "execution_count": 156,
   "id": "731d6e8d",
   "metadata": {},
   "outputs": [],
   "source": [
    "def generate(state):\n",
    "    \"\"\"\n",
    "    Generate answer\n",
    "\n",
    "    Args:\n",
    "        state (messages): The current state\n",
    "\n",
    "    Returns:\n",
    "         dict: The updated state with re-phrased question\n",
    "    \"\"\"\n",
    "    messages = state[\"messages\"]\n",
    "    question = messages[0].content\n",
    "    last_message = messages[-1]\n",
    "\n",
    "    docs = last_message.content\n",
    "\n",
    "    prompt = hub.pull(\"rlm/rag-prompt\")\n",
    "\n",
    "    def format_docs(docs):\n",
    "        return \"\\n\\n\".join(doc.page_content for doc in docs)\n",
    "    \n",
    "    rag_chain = prompt | llm | StrOutputParser()\n",
    "\n",
    "    response = rag_chain.invoke({\"context\": format_docs(docs), \"question\": question})\n",
    "    return {\"messages\": [response]}"
   ]
  },
  {
   "cell_type": "code",
   "execution_count": null,
   "id": "de1be9b5",
   "metadata": {},
   "outputs": [],
   "source": [
    "from langgraph.graph import END, START, StateGraph\n",
    "from langgraph.prebuilt import ToolNode\n",
    "\n",
    "graph_builder = StateGraph(State)\n",
    "graph_builder.add_node(\"agent\", agent)\n",
    "retriever = ToolNode([retriever_tool])\n",
    "graph_builder.add_node(\"retriever\", retriever)\n",
    "graph_builder.add_node(\"rewrite\", rewrite)\n",
    "graph_builder.add_node(\"generate\", generate)\n",
    "graph_builder.add_edge(START, \"agent\")\n",
    "graph_builder.add_conditional_edges( \n",
    "    \"agent\",\n",
    "    tools_condition,\n",
    "    {\n",
    "        \"tools\": \"retriever\",\n",
    "        END: END\n",
    "    }\n",
    ")\n",
    "graph_builder.add_conditional_edges(\n",
    "    \"retriever\",\n",
    "    grade_documents\n",
    ")\n",
    "graph_builder.add_edge(\"generate\", END)\n",
    "graph_builder.add_edge(\"rewrite\", \"agent\")\n",
    "\n",
    "graph = graph_builder.compile()"
   ]
  },
  {
   "cell_type": "code",
   "execution_count": 158,
   "id": "7f3455ae",
   "metadata": {},
   "outputs": [
    {
     "data": {
      "image/png": "[encoded data removed]",
      "text/plain": [
       "<IPython.core.display.Image object>"
      ]
     },
     "metadata": {},
     "output_type": "display_data"
    }
   ],
   "source": [
    "from IPython.display import Image, display\n",
    "display(Image(graph.get_graph().draw_mermaid_png()))"
   ]
  },
  {
   "cell_type": "code",
   "execution_count": 161,
   "id": "4e77fac3",
   "metadata": {},
   "outputs": [
    {
     "name": "stdout",
     "output_type": "stream",
     "text": [
      "\"Output from node 'agent':\"\n",
      "'----'\n",
      "{   'messages': [   AIMessage(content='', additional_kwargs={}, response_metadata={'model': 'llama3.2:latest', 'created_at': '2025-09-13T03:41:46.869311Z', 'done': True, 'done_reason': 'stop', 'total_duration': 3130853125, 'load_duration': 125754000, 'prompt_eval_count': 176, 'prompt_eval_duration': 1485048250, 'eval_count': 23, 'eval_duration': 1515686167, 'model_name': 'llama3.2:latest'}, id='run--5167ce3f-ad5f-4f49-a106-5ddc23cf4580-0', tool_calls=[{'name': 'health_supplements', 'args': {'query': 'gym supplements for muscle gain'}, 'id': '17969455-952d-48f9-ae9f-9b3677a43db9', 'type': 'tool_call'}], usage_metadata={'input_tokens': 176, 'output_tokens': 23, 'total_tokens': 199})]}\n",
      "'\\n------\\n'\n",
      "\"Output from node 'retriever':\"\n",
      "'----'\n",
      "{   'messages': [   ToolMessage(content='intended to burn fat and increase performance, muscle mass or strength. As examples, 53% \\nof active-duty US Army soldiers report using at least one dietary supplement per week (60), \\nand 64% of college students participating in athletics use dietary supplements to enhance \\nperformance (61). The supplements are often proprietary blends of several supposedly \\nnatural ingredients. They are not without risk of adverse effects. In a recent review, it is \\nestimated that the proportion of drug-induced liver injuries that are due to dietary \\nRonis et al.\\nPage 6\\nAnnu Rev Pharmacol Toxicol. Author manuscript; available in PMC 2019 February 19.\\nAuthor Manuscript\\nAuthor Manuscript\\nAuthor Manuscript\\nAuthor Manuscript\\n\\nthey can achieve far higher plasma levels than when isoflavones are consumed as part of SPI \\nor soy foods, which are complex mixtures of bioactive proteins, peptides and over one \\nhundred phytochemicals (34,36,51). There have been case reports of endometriosis in \\nwomen consuming isoflavone supplements (59) and, given the clear evidence of \\nestrogenicity, there is a likelihood of increased risk of estrogen sensitive cancers in \\nconsumers of these products.\\nWEIGHT-LOSS, SPORTS, AND BODYBUILDING SUPPLEMENTS\\nAs more and more of the world population becomes overweight and obese, there is a huge \\nmarket for weight-loss products, including dietary supplements. Among military service \\nmembers, athletes and bodybuilders it is also common to ingest dietary sports supplements \\nintended to burn fat and increase performance, muscle mass or strength. As examples, 53% \\nof active-duty US Army soldiers report using at least one dietary supplement per week (60),\\n\\npressure and heart rate in the case of sibutramine may therefore also be encountered in \\nindividuals using such adulterated supplements.\\nBody-building supplements are quite often adulterated with anabolic steroids that are \\nmodified variants of androgens designed to increase muscle mass. Studies from 2001 and \\nRonis et al.\\nPage 9\\nAnnu Rev Pharmacol Toxicol. Author manuscript; available in PMC 2019 February 19.\\nAuthor Manuscript\\nAuthor Manuscript\\nAuthor Manuscript\\nAuthor Manuscript\\n\\nsupplements is currently around 20%. Furthermore, bodybuilding and weight loss \\nsupplements account for almost half of these injuries (62). Among emergency department \\nvisits for adverse events related to dietary supplements in the US, around 25% were due to \\nweight loss products (63). There are two classes of adverse effects that may occur. \\nSupplements can have components according to the product description that cause certain \\nside effects. Supplements may also be intentionally spiked with unlisted or illegal \\ncompounds, or drugs such as anabolic steroids. These are so-called adulterated supplements. \\nSupplements containing declared compounds that have not been adequately tested for safety \\ncan also be declared adulterated by the US Food and Drug Administration (FDA). It has \\nbeen argued that adulterated supplements shouldn’t be considered real dietary supplements \\n(64). Yet, such supplements exist and can readily be obtained e.g. over the internet.\\n\\ncomponent of Geranium plants, e.g. as geranium extract (71). However, the presence of \\nDMAA in plants has not been verified, leading to the conclusion that DMAA in supplements \\nis generated by chemical synthesis (72). DMAA has further been banned as a performance \\nenhancing drug by the World Anti-Doping Agency (73). One version of the weight-loss \\nsupplement OxyELITE Pro from USPlabs, LLC contained the compound 1,3-\\ndimethylamylamine (DMAA) in addition to ingredients such as caffeine, Bauhinia purpurea, \\nBacopa monniera, Cirsium oligophyllum, and rauwolscine (Yohimbe) extract. Studies that \\nwere supported financially by USPlabs, LLC with a small number of healthy volunteers \\nsuggested that this supplement formulation could increase lipolysis, metabolic rate, heart \\nrate and systolic blood pressure in the short term (2 h) as well as lead to small decreases in \\nappetite, body weight, and BMI after intake for 8 weeks (74). Accidental intake of', name='health_supplements', id='79bcd0b3-328a-470a-8f4c-9ecfa6dfb891', tool_call_id='17969455-952d-48f9-ae9f-9b3677a43db9')]}\n",
      "'\\n------\\n'\n",
      "\"Output from node 'rewrite':\"\n",
      "'----'\n",
      "{   'messages': [   AIMessage(content='Based on the input, I\\'d like to improve the question by making it more specific and focused.\\n\\nThe initial question seems to be a prompt for a general discussion about how gym supplements can aid in muscle gain. Here\\'s a possible rephrased version of the question:\\n\\n\"What are some specific types of gym supplements that have been scientifically proven to enhance muscle growth, and what are their optimal dosages for maximum effectiveness?\"\\n\\nThis revised question aims to:\\n\\n1. Be more targeted towards specific solutions (types of supplements) rather than general claims.\\n2. Specify the desired outcome (muscle growth) and seek evidence-based recommendations.\\n3. Ask about optimal dosages, which can provide a clearer understanding of how these supplements should be used.\\n\\nBy reformulating the question in this way, we can encourage more precise and research-backed answers that address the specific needs and goals of individuals looking to gain muscle mass through supplementation.', additional_kwargs={}, response_metadata={'model': 'llama3.2:latest', 'created_at': '2025-09-13T03:42:11.686159Z', 'done': True, 'done_reason': 'stop', 'total_duration': 13960065583, 'load_duration': 92863708, 'prompt_eval_count': 75, 'prompt_eval_duration': 473243083, 'eval_count': 183, 'eval_duration': 13392724834, 'model_name': 'llama3.2:latest'}, id='run--41d672b3-9ad9-41dd-bf8e-006727aa0d4b-0', usage_metadata={'input_tokens': 75, 'output_tokens': 183, 'total_tokens': 258})]}\n",
      "'\\n------\\n'\n",
      "\"Output from node 'agent':\"\n",
      "'----'\n",
      "{   'messages': [   AIMessage(content='', additional_kwargs={}, response_metadata={'model': 'llama3.2:latest', 'created_at': '2025-09-13T03:42:21.343688Z', 'done': True, 'done_reason': 'stop', 'total_duration': 9633598875, 'load_duration': 106411750, 'prompt_eval_count': 1174, 'prompt_eval_duration': 9504633958, 'eval_count': 1, 'eval_duration': 3968000, 'model_name': 'llama3.2:latest'}, id='run--2bfcba68-af8d-45d0-aa63-94c7b2f75052-0', usage_metadata={'input_tokens': 1174, 'output_tokens': 1, 'total_tokens': 1175})]}\n",
      "'\\n------\\n'\n"
     ]
    }
   ],
   "source": [
    "from pprint import pprint\n",
    "query = {\"messages\": [HumanMessage(\"How gym supplements can help in muscle gain?\")]}\n",
    "for output in graph.stream(query):\n",
    "    for key, value in output.items():\n",
    "        pprint(f\"Output from node '{key}':\")\n",
    "        pprint(\"----\")\n",
    "        pprint(value, indent=4, width=120)\n",
    "\n",
    "    pprint(\"\\n------\\n\")"
   ]
  }
 ],
 "metadata": {
  "kernelspec": {
   "display_name": "langgrpah",
   "language": "python",
   "name": "python3"
  },
  "language_info": {
   "codemirror_mode": {
    "name": "ipython",
    "version": 3
   },
   "file_extension": ".py",
   "mimetype": "text/x-python",
   "name": "python",
   "nbconvert_exporter": "python",
   "pygments_lexer": "ipython3",
   "version": "3.9.6"
  }
 },
 "nbformat": 4,
 "nbformat_minor": 5
}
