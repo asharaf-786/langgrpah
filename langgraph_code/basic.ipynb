{
 "cells": [
  {
   "cell_type": "code",
   "execution_count": 7,
   "id": "995b5a66",
   "metadata": {},
   "outputs": [],
   "source": [
    "from typing_extensions import TypedDict, Annotated\n",
    "from langgraph.graph import add_messages,StateGraph, START, END  \n",
    "from initializeLLM import get_openai_llm\n",
    "from dotenv import load_dotenv\n",
    "load_dotenv()\n",
    "\n",
    "llm = get_openai_llm()\n",
    "\n",
    "class State(TypedDict):\n",
    "    messages: Annotated[list, add_messages]\n",
    "\n",
    "\n",
    "def chat_bot(state:State):\n",
    "    response = llm.invoke(state['messages'])\n",
    "    return {\"messages\": response}\n"
   ]
  },
  {
   "cell_type": "code",
   "execution_count": 8,
   "id": "74bd908c",
   "metadata": {},
   "outputs": [
    {
     "name": "stdout",
     "output_type": "stream",
     "text": [
      "{'messages': [HumanMessage(content='Hello, who are you?', additional_kwargs={}, response_metadata={}, id='cb0b6a4a-4874-44e1-abac-409443f97cf4'), AIMessage(content='Hello! I’m an AI developed by OpenAI, here to help you with information, answer questions, and assist with a variety of topics. What can I do for you today?', additional_kwargs={'refusal': None}, response_metadata={'token_usage': {'completion_tokens': 37, 'prompt_tokens': 13, 'total_tokens': 50, 'completion_tokens_details': {'accepted_prediction_tokens': 0, 'audio_tokens': 0, 'reasoning_tokens': 0, 'rejected_prediction_tokens': 0}, 'prompt_tokens_details': {'audio_tokens': 0, 'cached_tokens': 0}}, 'model_name': 'gpt-4o-mini-2024-07-18', 'system_fingerprint': 'fp_8bda4d3a2c', 'id': 'chatcmpl-CCHZQQwpOR0OpavXp9eNxyedBaZV4', 'finish_reason': 'stop', 'logprobs': None}, id='run-b92ac9e8-e3a2-4c32-b39c-693af4ca9de6-0', usage_metadata={'input_tokens': 13, 'output_tokens': 37, 'total_tokens': 50, 'input_token_details': {'audio': 0, 'cache_read': 0}, 'output_token_details': {'audio': 0, 'reasoning': 0}})]}\n"
     ]
    }
   ],
   "source": [
    "graph = StateGraph(State)\n",
    "graph.add_node('chat', chat_bot)\n",
    "graph.add_edge(START, 'chat')\n",
    "graph.add_edge('chat', END)\n",
    "app = graph.compile()\n",
    "\n",
    "try:\n",
    "    result = app.invoke({\"messages\": [\"Hello, who are you?\"]})\n",
    "    print(result)\n",
    "except Exception as e:\n",
    "    print(\"Error Block...\",e)"
   ]
  },
  {
   "cell_type": "code",
   "execution_count": 20,
   "id": "48b92f73",
   "metadata": {},
   "outputs": [],
   "source": [
    "def see_graph(app):\n",
    "    from IPython.display import display, Image\n",
    "    image = Image(app.get_graph().draw_mermaid_png())\n",
    "    display(image)"
   ]
  },
  {
   "cell_type": "code",
   "execution_count": 40,
   "id": "fd703201",
   "metadata": {},
   "outputs": [],
   "source": [
    "from langchain_core.tools import tool\n",
    "from langgraph.prebuilt import ToolNode,tools_condition\n",
    "from langchain_tavily import TavilySearch\n",
    "\n",
    "\n",
    "@tool\n",
    "def tavily_search(query:str) -> str:\n",
    "    \"\"\"\n",
    "    Use this tool to search the web for recent information.\n",
    "    Input: A search query string.\n",
    "    Output: A string containing the search results.\n",
    "    \"\"\"\n",
    "    \n",
    "    tool = TavilySearch(\n",
    "            max_results=5,\n",
    "            topic=\"general\",\n",
    "            search_depth=\"advanced\"\n",
    "        )\n",
    "    response = tool.invoke(query)\n",
    "    return response\n",
    "\n",
    "@tool\n",
    "def llm_search(query) -> str:\n",
    "    \"\"\"Use this tool for LLM based search not for recent information and news.\"\"\"\n",
    "    response = llm.invoke(query)\n",
    "    return response"
   ]
  },
  {
   "cell_type": "code",
   "execution_count": 41,
   "id": "96037cb8",
   "metadata": {},
   "outputs": [],
   "source": [
    "tools = [tavily_search,llm_search]\n",
    "llm_with_tools = llm.bind_tools(tools)\n",
    "def chat_bot(state:State):\n",
    "    response = llm_with_tools.invoke(state['messages'])\n",
    "    return {\"messages\": response}"
   ]
  },
  {
   "cell_type": "code",
   "execution_count": null,
   "id": "9a8964f8",
   "metadata": {},
   "outputs": [
    {
     "data": {
      "image/png": "[encoded data removed]",
      "text/plain": [
       "<IPython.core.display.Image object>"
      ]
     },
     "metadata": {},
     "output_type": "display_data"
    }
   ],
   "source": [
    "from langgraph.checkpoint.memory import MemorySaver \n",
    "memory = MemorySaver(max_memory=5)\n",
    "\n",
    "tools_node = ToolNode(tools) \n",
    "graph = StateGraph(State)\n",
    "graph.add_node('chatbot', chat_bot)\n",
    "graph.add_node('tools', tools_node)\n",
    "graph.add_conditional_edges('chatbot', tools_condition)\n",
    "graph.add_edge(\"tools\", 'chatbot')\n",
    "graph.set_entry_point('chatbot')\n",
    "app = graph.compile(checkpointer=memory)\n",
    "see_graph(app)"
   ]
  },
  {
   "cell_type": "code",
   "execution_count": 50,
   "id": "03fda8d5",
   "metadata": {},
   "outputs": [
    {
     "name": "stdout",
     "output_type": "stream",
     "text": [
      "I'm unable to access the specific questions you've asked in previous threads or sessions. However, if you have any questions or topics you'd like to discuss now, feel free to ask!\n"
     ]
    }
   ],
   "source": [
    "# app.invoke({\"messages\": [\"Who is the captain of the Indian cricket team?\"]})\n",
    "config = {\"configurable\":{\"thread_id\": 1}}\n",
    "query = \"What all questions I had asked you until now on thread 1?\"\n",
    "result = app.invoke({\"messages\": [query]},config=config)\n",
    "print(result['messages'][-1].content)"
   ]
  }
 ],
 "metadata": {
  "kernelspec": {
   "display_name": "langgrpah",
   "language": "python",
   "name": "python3"
  },
  "language_info": {
   "codemirror_mode": {
    "name": "ipython",
    "version": 3
   },
   "file_extension": ".py",
   "mimetype": "text/x-python",
   "name": "python",
   "nbconvert_exporter": "python",
   "pygments_lexer": "ipython3",
   "version": "3.9.6"
  }
 },
 "nbformat": 4,
 "nbformat_minor": 5
}
